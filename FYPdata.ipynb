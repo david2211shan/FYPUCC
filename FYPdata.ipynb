{
  "nbformat": 4,
  "nbformat_minor": 0,
  "metadata": {
    "colab": {
      "provenance": [],
      "toc_visible": true
    },
    "kernelspec": {
      "name": "python3",
      "display_name": "Python 3"
    },
    "language_info": {
      "name": "python"
    }
  },
  "cells": [
    {
      "cell_type": "markdown",
      "source": [
        "# Data Gathering"
      ],
      "metadata": {
        "id": "YWR9lua0McL8"
      }
    },
    {
      "cell_type": "code",
      "execution_count": null,
      "metadata": {
        "id": "hHilOnHxjDJH"
      },
      "outputs": [],
      "source": [
        "#!pip install yfinance\n",
        "#!pip install xgboost\n",
        "import time\n",
        "import numpy as np\n",
        "\n",
        "import datetime\n",
        "import seaborn as sns\n",
        "\n",
        "import matplotlib.pyplot as plt\n",
        "%matplotlib inline\n",
        "from sklearn.decomposition import PCA\n",
        "\n",
        "import math\n",
        "\n",
        "from sklearn.preprocessing import MinMaxScaler\n",
        "from sklearn.metrics import mean_squared_error\n",
        "from sklearn.preprocessing import StandardScaler\n",
        "\n",
        "import xgboost as xgb\n",
        "from sklearn.metrics import accuracy_score\n",
        "\n",
        "import pandas as pd\n",
        "import numpy as np\n",
        "import torch\n",
        "import torch.nn as nn\n",
        "\n",
        "from torch.utils.data import DataLoader, TensorDataset"
      ]
    },
    {
      "cell_type": "code",
      "source": [
        "#!pip install yfinance\n",
        "import yfinance as yf\n",
        "\n",
        "# Define the ticker symbol\n",
        "tickerSymbol = 'GOOGL'\n",
        "\n",
        "# Get data on this ticker\n",
        "tickerData = yf.Ticker(tickerSymbol)\n",
        "\n",
        "# Get the historical prices for this ticker\n",
        "tickerDf = tickerData.history(period='1d', start='2010-1-1', end='2023-1-1')\n",
        "\n",
        "# See your data\n",
        "print(tickerDf)\n"
      ],
      "metadata": {
        "colab": {
          "base_uri": "https://localhost:8080/"
        },
        "id": "amH8yCn8kFeZ",
        "outputId": "7918cd3f-94d9-420e-9064-0f108a7751c8"
      },
      "execution_count": null,
      "outputs": [
        {
          "output_type": "stream",
          "name": "stdout",
          "text": [
            "                                Open       High        Low      Close  \\\n",
            "Date                                                                    \n",
            "2010-01-04 00:00:00-05:00  15.689439  15.753504  15.621622  15.684434   \n",
            "2010-01-05 00:00:00-05:00  15.695195  15.711712  15.554054  15.615365   \n",
            "2010-01-06 00:00:00-05:00  15.662162  15.662162  15.174174  15.221722   \n",
            "2010-01-07 00:00:00-05:00  15.250250  15.265265  14.831081  14.867367   \n",
            "2010-01-08 00:00:00-05:00  14.814815  15.096346  14.742492  15.065566   \n",
            "...                              ...        ...        ...        ...   \n",
            "2022-12-23 00:00:00-05:00  87.110001  89.550003  87.070000  89.230003   \n",
            "2022-12-27 00:00:00-05:00  88.800003  88.940002  87.010002  87.389999   \n",
            "2022-12-28 00:00:00-05:00  86.980003  88.040001  85.940002  86.019997   \n",
            "2022-12-29 00:00:00-05:00  86.620003  88.849998  86.610001  88.449997   \n",
            "2022-12-30 00:00:00-05:00  86.980003  88.300003  86.570000  88.230003   \n",
            "\n",
            "                              Volume  Dividends  Stock Splits  \n",
            "Date                                                           \n",
            "2010-01-04 00:00:00-05:00   78169752        0.0           0.0  \n",
            "2010-01-05 00:00:00-05:00  120067812        0.0           0.0  \n",
            "2010-01-06 00:00:00-05:00  158988852        0.0           0.0  \n",
            "2010-01-07 00:00:00-05:00  256315428        0.0           0.0  \n",
            "2010-01-08 00:00:00-05:00  188783028        0.0           0.0  \n",
            "...                              ...        ...           ...  \n",
            "2022-12-23 00:00:00-05:00   23003000        0.0           0.0  \n",
            "2022-12-27 00:00:00-05:00   20097300        0.0           0.0  \n",
            "2022-12-28 00:00:00-05:00   19523200        0.0           0.0  \n",
            "2022-12-29 00:00:00-05:00   23333500        0.0           0.0  \n",
            "2022-12-30 00:00:00-05:00   23986300        0.0           0.0  \n",
            "\n",
            "[3272 rows x 7 columns]\n"
          ]
        }
      ]
    },
    {
      "cell_type": "code",
      "source": [
        "tickerDf.head(7)"
      ],
      "metadata": {
        "colab": {
          "base_uri": "https://localhost:8080/",
          "height": 300
        },
        "id": "gt-e28cGHgA5",
        "outputId": "f703b6d6-94cb-47ee-ef2a-ee7bdbc6c74c"
      },
      "execution_count": null,
      "outputs": [
        {
          "output_type": "execute_result",
          "data": {
            "text/plain": [
              "                                Open       High        Low      Close  \\\n",
              "Date                                                                    \n",
              "2010-01-04 00:00:00-05:00  15.689439  15.753504  15.621622  15.684434   \n",
              "2010-01-05 00:00:00-05:00  15.695195  15.711712  15.554054  15.615365   \n",
              "2010-01-06 00:00:00-05:00  15.662162  15.662162  15.174174  15.221722   \n",
              "2010-01-07 00:00:00-05:00  15.250250  15.265265  14.831081  14.867367   \n",
              "2010-01-08 00:00:00-05:00  14.814815  15.096346  14.742492  15.065566   \n",
              "2010-01-11 00:00:00-05:00  15.126627  15.126627  14.865866  15.042793   \n",
              "2010-01-12 00:00:00-05:00  14.956206  14.968969  14.714715  14.776777   \n",
              "\n",
              "                              Volume  Dividends  Stock Splits  \n",
              "Date                                                           \n",
              "2010-01-04 00:00:00-05:00   78169752        0.0           0.0  \n",
              "2010-01-05 00:00:00-05:00  120067812        0.0           0.0  \n",
              "2010-01-06 00:00:00-05:00  158988852        0.0           0.0  \n",
              "2010-01-07 00:00:00-05:00  256315428        0.0           0.0  \n",
              "2010-01-08 00:00:00-05:00  188783028        0.0           0.0  \n",
              "2010-01-11 00:00:00-05:00  288227484        0.0           0.0  \n",
              "2010-01-12 00:00:00-05:00  193937868        0.0           0.0  "
            ]
